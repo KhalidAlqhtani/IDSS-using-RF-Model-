{
 "cells": [
  {
   "cell_type": "markdown",
   "metadata": {},
   "source": [
    "Loading Cleaned Data and Importing:"
   ]
  },
  {
   "cell_type": "code",
   "execution_count": 316,
   "metadata": {},
   "outputs": [],
   "source": [
    "import pandas as pd\n",
    "import numpy as np\n",
    "from sklearn.model_selection import train_test_split\n",
    "from sklearn.ensemble import RandomForestClassifier\n",
    "from sklearn.metrics import accuracy_score, classification_report, confusion_matrix\n",
    "from sklearn.preprocessing import LabelEncoder, StandardScaler\n",
    "import joblib\n",
    "\n",
    "# Load the Excel file into a DataFrame\n",
    "data = pd.read_excel(\"Cleaned_Survey_ICS487_Project.xlsx\")"
   ]
  },
  {
   "cell_type": "markdown",
   "metadata": {},
   "source": [
    "Encoding the target variable(budget rule) and Scaling numerical features"
   ]
  },
  {
   "cell_type": "code",
   "execution_count": 317,
   "metadata": {},
   "outputs": [],
   "source": [
    "# Encode the target variable\n",
    "label_encoder = LabelEncoder()\n",
    "data['budgeting_rule'] = label_encoder.fit_transform(data['budgeting_rule'])\n",
    "\n",
    "# # Scale numerical features for better performance\n",
    "# scaler = StandardScaler()\n",
    "# numerical_columns = ['salary_(sar)', 'monthly_debt_(sar)', 'elementary_expenses_(sar)', \n",
    "#                      'debt_to_income_ratio', 'savings_ratio']\n",
    "# data[numerical_columns] = scaler.fit_transform(data[numerical_columns])"
   ]
  },
  {
   "cell_type": "markdown",
   "metadata": {},
   "source": [
    "Model Training:"
   ]
  },
  {
   "cell_type": "code",
   "execution_count": 318,
   "metadata": {},
   "outputs": [
    {
     "name": "stdout",
     "output_type": "stream",
     "text": [
      "OOB Score: 0.8784\n",
      "Accuracy on Training Data: 0.9481\n",
      "\n",
      "Classification Report:\n",
      "               precision    recall  f1-score   support\n",
      "\n",
      "           0       0.98      0.98      0.98       583\n",
      "           1       0.78      0.81      0.80        63\n",
      "           2       0.84      0.85      0.84        86\n",
      "\n",
      "    accuracy                           0.95       732\n",
      "   macro avg       0.87      0.88      0.87       732\n",
      "weighted avg       0.95      0.95      0.95       732\n",
      "\n",
      "\n",
      "Confusion Matrix:\n",
      " [[570   9   4]\n",
      " [  2  51  10]\n",
      " [  8   5  73]]\n",
      "\n",
      "Feature Importances:\n",
      "                          Feature  Importance\n",
      "12                 savings_ratio    0.446266\n",
      "2      elementary_expenses_(sar)    0.166399\n",
      "0                   salary_(sar)    0.153709\n",
      "1             monthly_debt_(sar)    0.060784\n",
      "11          debt_to_income_ratio    0.058790\n",
      "4                   state_Single    0.025629\n",
      "9   employment_status_Unemployed    0.025271\n",
      "7                  goal_Spending    0.015716\n",
      "10             age_group_encoded    0.013441\n",
      "3             number_of_children    0.011334\n",
      "6                   goal_Savings    0.009918\n",
      "8      employment_status_Student    0.008741\n",
      "5                       sex_Male    0.004003\n"
     ]
    }
   ],
   "source": [
    "# Define features (X) and target (y)\n",
    "X = data.drop(['budgeting_rule'], axis=1)  # Features\n",
    "y = data['budgeting_rule']  # Target\n",
    "\n",
    "# Train a Random Forest model using OOB evaluation\n",
    "rf_model = RandomForestClassifier(\n",
    "    n_estimators=100,\n",
    "    max_depth=5,\n",
    "    min_samples_split=10,\n",
    "    min_samples_leaf=5,\n",
    "    oob_score=True,\n",
    "    random_state=42\n",
    ")\n",
    "rf_model.fit(X, y)\n",
    "\n",
    "# Get the OOB score\n",
    "oob_score = rf_model.oob_score_\n",
    "print(f\"OOB Score: {oob_score:.4f}\")\n",
    "\n",
    "# Evaluate the model on training data\n",
    "y_pred = rf_model.predict(X)\n",
    "\n",
    "# Accuracy\n",
    "accuracy = accuracy_score(y, y_pred)\n",
    "print(f\"Accuracy on Training Data: {accuracy:.4f}\")\n",
    "\n",
    "# Classification Report\n",
    "print(\"\\nClassification Report:\\n\", classification_report(y, y_pred))\n",
    "\n",
    "# Confusion Matrix\n",
    "conf_matrix = confusion_matrix(y, y_pred)\n",
    "print(\"\\nConfusion Matrix:\\n\", conf_matrix)\n",
    "\n",
    "# Optional: Feature Importance\n",
    "feature_importances = pd.DataFrame({\n",
    "    'Feature': X.columns,\n",
    "    'Importance': rf_model.feature_importances_\n",
    "}).sort_values(by='Importance', ascending=False)\n",
    "print(\"\\nFeature Importances:\\n\", feature_importances)"
   ]
  },
  {
   "cell_type": "markdown",
   "metadata": {},
   "source": [
    "Feature Importance: Random Forest provides feature importance scores"
   ]
  },
  {
   "cell_type": "code",
   "execution_count": 319,
   "metadata": {},
   "outputs": [
    {
     "name": "stdout",
     "output_type": "stream",
     "text": [
      "Feature Importances:\n",
      "                         Feature  Importance\n",
      "12                 savings_ratio    0.446266\n",
      "2      elementary_expenses_(sar)    0.166399\n",
      "0                   salary_(sar)    0.153709\n",
      "1             monthly_debt_(sar)    0.060784\n",
      "11          debt_to_income_ratio    0.058790\n",
      "4                   state_Single    0.025629\n",
      "9   employment_status_Unemployed    0.025271\n",
      "7                  goal_Spending    0.015716\n",
      "10             age_group_encoded    0.013441\n",
      "3             number_of_children    0.011334\n",
      "6                   goal_Savings    0.009918\n",
      "8      employment_status_Student    0.008741\n",
      "5                       sex_Male    0.004003\n"
     ]
    },
    {
     "data": {
      "image/png": "[encoded data removed]",
      "text/plain": [
       "<Figure size 1000x600 with 1 Axes>"
      ]
     },
     "metadata": {},
     "output_type": "display_data"
    }
   ],
   "source": [
    "# Feature importance\n",
    "importances = rf_model.feature_importances_\n",
    "feature_importance_df = pd.DataFrame({\n",
    "    'Feature': X.columns,\n",
    "    'Importance': importances\n",
    "}).sort_values(by='Importance', ascending=False)\n",
    "\n",
    "print(\"Feature Importances:\")\n",
    "print(feature_importance_df)\n",
    "\n",
    "import matplotlib.pyplot as plt\n",
    "\n",
    "# Plot feature importance\n",
    "plt.figure(figsize=(10, 6))\n",
    "plt.barh(feature_importance_df['Feature'], feature_importance_df['Importance'])\n",
    "plt.xlabel('Importance')\n",
    "plt.ylabel('Feature')\n",
    "plt.title('Feature Importance')\n",
    "plt.gca().invert_yaxis()\n",
    "plt.show()"
   ]
  },
  {
   "cell_type": "markdown",
   "metadata": {},
   "source": [
    "Cross-Validation:"
   ]
  },
  {
   "cell_type": "code",
   "execution_count": 320,
   "metadata": {},
   "outputs": [
    {
     "name": "stdout",
     "output_type": "stream",
     "text": [
      "Cross-Validation Accuracy: 0.89\n"
     ]
    }
   ],
   "source": [
    "from sklearn.model_selection import cross_val_score\n",
    "\n",
    "cv_scores = cross_val_score(rf_model, X, y, cv=5)\n",
    "print(f\"Cross-Validation Accuracy: {cv_scores.mean():.2f}\")"
   ]
  },
  {
   "cell_type": "markdown",
   "metadata": {},
   "source": [
    "Saving the model:"
   ]
  },
  {
   "cell_type": "code",
   "execution_count": 321,
   "metadata": {},
   "outputs": [
    {
     "data": {
      "text/plain": [
       "['salary_allocation_model.pkl']"
      ]
     },
     "execution_count": 321,
     "metadata": {},
     "output_type": "execute_result"
    }
   ],
   "source": [
    "import joblib\n",
    "\n",
    "# Save the trained random forest model\n",
    "joblib.dump(rf_model, 'salary_allocation_model.pkl')"
   ]
  },
  {
   "cell_type": "code",
   "execution_count": 322,
   "metadata": {},
   "outputs": [
    {
     "data": {
      "text/plain": [
       "Index(['salary_(sar)', 'monthly_debt_(sar)', 'elementary_expenses_(sar)',\n",
       "       'number_of_children', 'budgeting_rule', 'state_Single', 'sex_Male',\n",
       "       'goal_Savings', 'goal_Spending', 'employment_status_Student',\n",
       "       'employment_status_Unemployed', 'age_group_encoded',\n",
       "       'debt_to_income_ratio', 'savings_ratio'],\n",
       "      dtype='object')"
      ]
     },
     "execution_count": 322,
     "metadata": {},
     "output_type": "execute_result"
    }
   ],
   "source": [
    "data.columns"
   ]
  },
  {
   "cell_type": "code",
   "execution_count": 323,
   "metadata": {},
   "outputs": [
    {
     "data": {
      "text/html": [
       "<div>\n",
       "<style scoped>\n",
       "    .dataframe tbody tr th:only-of-type {\n",
       "        vertical-align: middle;\n",
       "    }\n",
       "\n",
       "    .dataframe tbody tr th {\n",
       "        vertical-align: top;\n",
       "    }\n",
       "\n",
       "    .dataframe thead th {\n",
       "        text-align: right;\n",
       "    }\n",
       "</style>\n",
       "<table border=\"1\" class=\"dataframe\">\n",
       "  <thead>\n",
       "    <tr style=\"text-align: right;\">\n",
       "      <th></th>\n",
       "      <th>salary_(sar)</th>\n",
       "      <th>monthly_debt_(sar)</th>\n",
       "      <th>elementary_expenses_(sar)</th>\n",
       "      <th>number_of_children</th>\n",
       "      <th>budgeting_rule</th>\n",
       "      <th>state_Single</th>\n",
       "      <th>sex_Male</th>\n",
       "      <th>goal_Savings</th>\n",
       "      <th>goal_Spending</th>\n",
       "      <th>employment_status_Student</th>\n",
       "      <th>employment_status_Unemployed</th>\n",
       "      <th>age_group_encoded</th>\n",
       "      <th>debt_to_income_ratio</th>\n",
       "      <th>savings_ratio</th>\n",
       "    </tr>\n",
       "  </thead>\n",
       "  <tbody>\n",
       "    <tr>\n",
       "      <th>0</th>\n",
       "      <td>1332</td>\n",
       "      <td>226.42</td>\n",
       "      <td>2971.24</td>\n",
       "      <td>0</td>\n",
       "      <td>0</td>\n",
       "      <td>True</td>\n",
       "      <td>False</td>\n",
       "      <td>True</td>\n",
       "      <td>False</td>\n",
       "      <td>False</td>\n",
       "      <td>True</td>\n",
       "      <td>3</td>\n",
       "      <td>0.169985</td>\n",
       "      <td>2.230661</td>\n",
       "    </tr>\n",
       "    <tr>\n",
       "      <th>1</th>\n",
       "      <td>2240</td>\n",
       "      <td>113.76</td>\n",
       "      <td>3369.83</td>\n",
       "      <td>2</td>\n",
       "      <td>0</td>\n",
       "      <td>False</td>\n",
       "      <td>True</td>\n",
       "      <td>True</td>\n",
       "      <td>False</td>\n",
       "      <td>False</td>\n",
       "      <td>True</td>\n",
       "      <td>3</td>\n",
       "      <td>0.050786</td>\n",
       "      <td>1.504388</td>\n",
       "    </tr>\n",
       "    <tr>\n",
       "      <th>2</th>\n",
       "      <td>2467</td>\n",
       "      <td>376.84</td>\n",
       "      <td>7357.43</td>\n",
       "      <td>1</td>\n",
       "      <td>0</td>\n",
       "      <td>False</td>\n",
       "      <td>True</td>\n",
       "      <td>False</td>\n",
       "      <td>True</td>\n",
       "      <td>False</td>\n",
       "      <td>True</td>\n",
       "      <td>0</td>\n",
       "      <td>0.152752</td>\n",
       "      <td>2.982339</td>\n",
       "    </tr>\n",
       "    <tr>\n",
       "      <th>3</th>\n",
       "      <td>2318</td>\n",
       "      <td>556.81</td>\n",
       "      <td>5503.34</td>\n",
       "      <td>3</td>\n",
       "      <td>0</td>\n",
       "      <td>False</td>\n",
       "      <td>True</td>\n",
       "      <td>False</td>\n",
       "      <td>False</td>\n",
       "      <td>False</td>\n",
       "      <td>True</td>\n",
       "      <td>3</td>\n",
       "      <td>0.240211</td>\n",
       "      <td>2.374176</td>\n",
       "    </tr>\n",
       "    <tr>\n",
       "      <th>4</th>\n",
       "      <td>2572</td>\n",
       "      <td>629.61</td>\n",
       "      <td>7032.60</td>\n",
       "      <td>5</td>\n",
       "      <td>0</td>\n",
       "      <td>False</td>\n",
       "      <td>False</td>\n",
       "      <td>False</td>\n",
       "      <td>False</td>\n",
       "      <td>False</td>\n",
       "      <td>True</td>\n",
       "      <td>0</td>\n",
       "      <td>0.244794</td>\n",
       "      <td>2.734292</td>\n",
       "    </tr>\n",
       "  </tbody>\n",
       "</table>\n",
       "</div>"
      ],
      "text/plain": [
       "   salary_(sar)  monthly_debt_(sar)  elementary_expenses_(sar)  \\\n",
       "0          1332              226.42                    2971.24   \n",
       "1          2240              113.76                    3369.83   \n",
       "2          2467              376.84                    7357.43   \n",
       "3          2318              556.81                    5503.34   \n",
       "4          2572              629.61                    7032.60   \n",
       "\n",
       "   number_of_children  budgeting_rule  state_Single  sex_Male  goal_Savings  \\\n",
       "0                   0               0          True     False          True   \n",
       "1                   2               0         False      True          True   \n",
       "2                   1               0         False      True         False   \n",
       "3                   3               0         False      True         False   \n",
       "4                   5               0         False     False         False   \n",
       "\n",
       "   goal_Spending  employment_status_Student  employment_status_Unemployed  \\\n",
       "0          False                      False                          True   \n",
       "1          False                      False                          True   \n",
       "2           True                      False                          True   \n",
       "3          False                      False                          True   \n",
       "4          False                      False                          True   \n",
       "\n",
       "   age_group_encoded  debt_to_income_ratio  savings_ratio  \n",
       "0                  3              0.169985       2.230661  \n",
       "1                  3              0.050786       1.504388  \n",
       "2                  0              0.152752       2.982339  \n",
       "3                  3              0.240211       2.374176  \n",
       "4                  0              0.244794       2.734292  "
      ]
     },
     "execution_count": 323,
     "metadata": {},
     "output_type": "execute_result"
    }
   ],
   "source": [
    "data.head()"
   ]
  },
  {
   "cell_type": "code",
   "execution_count": null,
   "metadata": {},
   "outputs": [],
   "source": []
  }
 ],
 "metadata": {
  "kernelspec": {
   "display_name": "Python 3",
   "language": "python",
   "name": "python3"
  },
  "language_info": {
   "codemirror_mode": {
    "name": "ipython",
    "version": 3
   },
   "file_extension": ".py",
   "mimetype": "text/x-python",
   "name": "python",
   "nbconvert_exporter": "python",
   "pygments_lexer": "ipython3",
   "version": "3.10.14"
  }
 },
 "nbformat": 4,
 "nbformat_minor": 2
}
