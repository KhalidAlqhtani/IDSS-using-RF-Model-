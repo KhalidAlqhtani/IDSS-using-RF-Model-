{
 "cells": [
  {
   "cell_type": "markdown",
   "metadata": {},
   "source": [
    "Loading Cleaned Data and Importing:"
   ]
  },
  {
   "cell_type": "code",
   "execution_count": 292,
   "metadata": {},
   "outputs": [],
   "source": [
    "import pandas as pd\n",
    "import numpy as np\n",
    "from sklearn.model_selection import train_test_split\n",
    "from sklearn.ensemble import RandomForestClassifier\n",
    "from sklearn.metrics import accuracy_score, classification_report, confusion_matrix\n",
    "from sklearn.preprocessing import LabelEncoder, StandardScaler\n",
    "import joblib\n",
    "\n",
    "# Load the Excel file into a DataFrame\n",
    "data = pd.read_excel(\"Cleaned_Survey_ICS487_Project.xlsx\")"
   ]
  },
  {
   "cell_type": "markdown",
   "metadata": {},
   "source": [
    "Encoding the target variable(budget rule) and Scaling numerical features"
   ]
  },
  {
   "cell_type": "code",
   "execution_count": 293,
   "metadata": {},
   "outputs": [],
   "source": [
    "# Encode the target variable\n",
    "label_encoder = LabelEncoder()\n",
    "data['budgeting_rule'] = label_encoder.fit_transform(data['budgeting_rule'])\n",
    "\n",
    "# Scale numerical features for better performance\n",
    "scaler = StandardScaler()\n",
    "numerical_columns = ['salary_(sar)', 'monthly_debt_(sar)', 'elementary_expenses_(sar)', \n",
    "                     'debt_to_income_ratio', 'savings_ratio', 'number_of_children']\n",
    "data[numerical_columns] = scaler.fit_transform(data[numerical_columns])"
   ]
  },
  {
   "cell_type": "markdown",
   "metadata": {},
   "source": [
    "Model Training:"
   ]
  },
  {
   "cell_type": "code",
   "execution_count": 294,
   "metadata": {},
   "outputs": [
    {
     "name": "stdout",
     "output_type": "stream",
     "text": [
      "OOB Score: 0.9134\n",
      "Accuracy on Training Data: 0.9608\n",
      "\n",
      "Classification Report:\n",
      "               precision    recall  f1-score   support\n",
      "\n",
      "           0       0.97      0.99      0.98       593\n",
      "           1       0.86      0.71      0.78        59\n",
      "           2       0.93      0.90      0.91        87\n",
      "\n",
      "    accuracy                           0.96       739\n",
      "   macro avg       0.92      0.87      0.89       739\n",
      "weighted avg       0.96      0.96      0.96       739\n",
      "\n",
      "\n",
      "Confusion Matrix:\n",
      " [[590   2   1]\n",
      " [ 12  42   5]\n",
      " [  4   5  78]]\n",
      "\n",
      "Feature Importances:\n",
      "                          Feature  Importance\n",
      "11                 savings_ratio    0.498415\n",
      "0                   salary_(sar)    0.144964\n",
      "2      elementary_expenses_(sar)    0.140454\n",
      "1             monthly_debt_(sar)    0.056503\n",
      "6                   goal_Savings    0.041799\n",
      "10          debt_to_income_ratio    0.037265\n",
      "4                   state_Single    0.023685\n",
      "8   employment_status_Unemployed    0.015251\n",
      "7      employment_status_Student    0.013496\n",
      "9              age_group_encoded    0.012103\n",
      "3             number_of_children    0.012026\n",
      "5                       sex_Male    0.004038\n"
     ]
    }
   ],
   "source": [
    "# Define features (X) and target (y)\n",
    "X = data.drop(['budgeting_rule'], axis=1)  # Features\n",
    "y = data['budgeting_rule']  # Target\n",
    "\n",
    "# Train a Random Forest model using OOB evaluation\n",
    "rf_model = RandomForestClassifier(\n",
    "    n_estimators=100,\n",
    "    max_depth=5,\n",
    "    min_samples_split=10,\n",
    "    min_samples_leaf=5,\n",
    "    oob_score=True,\n",
    "    random_state=42\n",
    ")\n",
    "rf_model.fit(X, y)\n",
    "\n",
    "# Get the OOB score\n",
    "oob_score = rf_model.oob_score_\n",
    "print(f\"OOB Score: {oob_score:.4f}\")\n",
    "\n",
    "# Evaluate the model on training data\n",
    "y_pred = rf_model.predict(X)\n",
    "\n",
    "# Accuracy\n",
    "accuracy = accuracy_score(y, y_pred)\n",
    "print(f\"Accuracy on Training Data: {accuracy:.4f}\")\n",
    "\n",
    "# Classification Report\n",
    "print(\"\\nClassification Report:\\n\", classification_report(y, y_pred))\n",
    "\n",
    "# Confusion Matrix\n",
    "conf_matrix = confusion_matrix(y, y_pred)\n",
    "print(\"\\nConfusion Matrix:\\n\", conf_matrix)\n",
    "\n",
    "# Optional: Feature Importance\n",
    "feature_importances = pd.DataFrame({\n",
    "    'Feature': X.columns,\n",
    "    'Importance': rf_model.feature_importances_\n",
    "}).sort_values(by='Importance', ascending=False)\n",
    "print(\"\\nFeature Importances:\\n\", feature_importances)"
   ]
  },
  {
   "cell_type": "markdown",
   "metadata": {},
   "source": [
    "Feature Importance: Random Forest provides feature importance scores"
   ]
  },
  {
   "cell_type": "code",
   "execution_count": 295,
   "metadata": {},
   "outputs": [
    {
     "name": "stdout",
     "output_type": "stream",
     "text": [
      "Feature Importances:\n",
      "                         Feature  Importance\n",
      "11                 savings_ratio    0.498415\n",
      "0                   salary_(sar)    0.144964\n",
      "2      elementary_expenses_(sar)    0.140454\n",
      "1             monthly_debt_(sar)    0.056503\n",
      "6                   goal_Savings    0.041799\n",
      "10          debt_to_income_ratio    0.037265\n",
      "4                   state_Single    0.023685\n",
      "8   employment_status_Unemployed    0.015251\n",
      "7      employment_status_Student    0.013496\n",
      "9              age_group_encoded    0.012103\n",
      "3             number_of_children    0.012026\n",
      "5                       sex_Male    0.004038\n"
     ]
    },
    {
     "data": {
      "image/png": "[encoded data removed]",
      "text/plain": [
       "<Figure size 1000x600 with 1 Axes>"
      ]
     },
     "metadata": {},
     "output_type": "display_data"
    }
   ],
   "source": [
    "# Feature importance\n",
    "importances = rf_model.feature_importances_\n",
    "feature_importance_df = pd.DataFrame({\n",
    "    'Feature': X.columns,\n",
    "    'Importance': importances\n",
    "}).sort_values(by='Importance', ascending=False)\n",
    "\n",
    "print(\"Feature Importances:\")\n",
    "print(feature_importance_df)\n",
    "\n",
    "import matplotlib.pyplot as plt\n",
    "\n",
    "# Plot feature importance\n",
    "plt.figure(figsize=(10, 6))\n",
    "plt.barh(feature_importance_df['Feature'], feature_importance_df['Importance'])\n",
    "plt.xlabel('Importance')\n",
    "plt.ylabel('Feature')\n",
    "plt.title('Feature Importance')\n",
    "plt.gca().invert_yaxis()\n",
    "plt.show()"
   ]
  },
  {
   "cell_type": "markdown",
   "metadata": {},
   "source": [
    "Cross-Validation:"
   ]
  },
  {
   "cell_type": "code",
   "execution_count": 296,
   "metadata": {},
   "outputs": [
    {
     "name": "stdout",
     "output_type": "stream",
     "text": [
      "Cross-Validation Accuracy: 0.92\n"
     ]
    }
   ],
   "source": [
    "from sklearn.model_selection import cross_val_score\n",
    "\n",
    "cv_scores = cross_val_score(rf_model, X, y, cv=5)\n",
    "print(f\"Cross-Validation Accuracy: {cv_scores.mean():.2f}\")"
   ]
  },
  {
   "cell_type": "markdown",
   "metadata": {},
   "source": [
    "Saving the model:"
   ]
  },
  {
   "cell_type": "code",
   "execution_count": 297,
   "metadata": {},
   "outputs": [
    {
     "data": {
      "text/plain": [
       "['salary_allocation_model.pkl']"
      ]
     },
     "execution_count": 297,
     "metadata": {},
     "output_type": "execute_result"
    }
   ],
   "source": [
    "import joblib\n",
    "\n",
    "# Save the trained random forest model\n",
    "joblib.dump(rf_model, 'salary_allocation_model.pkl')"
   ]
  },
  {
   "cell_type": "code",
   "execution_count": 298,
   "metadata": {},
   "outputs": [
    {
     "data": {
      "text/plain": [
       "Index(['salary_(sar)', 'monthly_debt_(sar)', 'elementary_expenses_(sar)',\n",
       "       'number_of_children', 'budgeting_rule', 'state_Single', 'sex_Male',\n",
       "       'goal_Savings', 'employment_status_Student',\n",
       "       'employment_status_Unemployed', 'age_group_encoded',\n",
       "       'debt_to_income_ratio', 'savings_ratio'],\n",
       "      dtype='object')"
      ]
     },
     "execution_count": 298,
     "metadata": {},
     "output_type": "execute_result"
    }
   ],
   "source": [
    "data.columns"
   ]
  },
  {
   "cell_type": "code",
   "execution_count": 299,
   "metadata": {},
   "outputs": [
    {
     "data": {
      "text/html": [
       "<div>\n",
       "<style scoped>\n",
       "    .dataframe tbody tr th:only-of-type {\n",
       "        vertical-align: middle;\n",
       "    }\n",
       "\n",
       "    .dataframe tbody tr th {\n",
       "        vertical-align: top;\n",
       "    }\n",
       "\n",
       "    .dataframe thead th {\n",
       "        text-align: right;\n",
       "    }\n",
       "</style>\n",
       "<table border=\"1\" class=\"dataframe\">\n",
       "  <thead>\n",
       "    <tr style=\"text-align: right;\">\n",
       "      <th></th>\n",
       "      <th>salary_(sar)</th>\n",
       "      <th>monthly_debt_(sar)</th>\n",
       "      <th>elementary_expenses_(sar)</th>\n",
       "      <th>number_of_children</th>\n",
       "      <th>budgeting_rule</th>\n",
       "      <th>state_Single</th>\n",
       "      <th>sex_Male</th>\n",
       "      <th>goal_Savings</th>\n",
       "      <th>employment_status_Student</th>\n",
       "      <th>employment_status_Unemployed</th>\n",
       "      <th>age_group_encoded</th>\n",
       "      <th>debt_to_income_ratio</th>\n",
       "      <th>savings_ratio</th>\n",
       "    </tr>\n",
       "  </thead>\n",
       "  <tbody>\n",
       "    <tr>\n",
       "      <th>0</th>\n",
       "      <td>0.184574</td>\n",
       "      <td>-1.042742</td>\n",
       "      <td>-0.860850</td>\n",
       "      <td>-0.732362</td>\n",
       "      <td>2</td>\n",
       "      <td>True</td>\n",
       "      <td>False</td>\n",
       "      <td>True</td>\n",
       "      <td>True</td>\n",
       "      <td>False</td>\n",
       "      <td>0</td>\n",
       "      <td>-1.616898</td>\n",
       "      <td>-0.833365</td>\n",
       "    </tr>\n",
       "    <tr>\n",
       "      <th>1</th>\n",
       "      <td>-0.039219</td>\n",
       "      <td>0.040512</td>\n",
       "      <td>-0.643118</td>\n",
       "      <td>-0.732362</td>\n",
       "      <td>0</td>\n",
       "      <td>True</td>\n",
       "      <td>True</td>\n",
       "      <td>True</td>\n",
       "      <td>True</td>\n",
       "      <td>False</td>\n",
       "      <td>0</td>\n",
       "      <td>-0.273106</td>\n",
       "      <td>-0.685308</td>\n",
       "    </tr>\n",
       "    <tr>\n",
       "      <th>2</th>\n",
       "      <td>-0.406011</td>\n",
       "      <td>0.507775</td>\n",
       "      <td>1.154076</td>\n",
       "      <td>1.504066</td>\n",
       "      <td>0</td>\n",
       "      <td>False</td>\n",
       "      <td>True</td>\n",
       "      <td>False</td>\n",
       "      <td>False</td>\n",
       "      <td>True</td>\n",
       "      <td>4</td>\n",
       "      <td>1.666678</td>\n",
       "      <td>0.765966</td>\n",
       "    </tr>\n",
       "    <tr>\n",
       "      <th>3</th>\n",
       "      <td>-0.128117</td>\n",
       "      <td>-0.281769</td>\n",
       "      <td>-0.576448</td>\n",
       "      <td>-0.732362</td>\n",
       "      <td>0</td>\n",
       "      <td>True</td>\n",
       "      <td>False</td>\n",
       "      <td>False</td>\n",
       "      <td>True</td>\n",
       "      <td>False</td>\n",
       "      <td>0</td>\n",
       "      <td>-0.533201</td>\n",
       "      <td>-0.613354</td>\n",
       "    </tr>\n",
       "    <tr>\n",
       "      <th>4</th>\n",
       "      <td>-0.236081</td>\n",
       "      <td>-0.110396</td>\n",
       "      <td>-1.286924</td>\n",
       "      <td>-0.732362</td>\n",
       "      <td>1</td>\n",
       "      <td>True</td>\n",
       "      <td>True</td>\n",
       "      <td>True</td>\n",
       "      <td>True</td>\n",
       "      <td>False</td>\n",
       "      <td>1</td>\n",
       "      <td>-0.082102</td>\n",
       "      <td>-0.904521</td>\n",
       "    </tr>\n",
       "  </tbody>\n",
       "</table>\n",
       "</div>"
      ],
      "text/plain": [
       "   salary_(sar)  monthly_debt_(sar)  elementary_expenses_(sar)  \\\n",
       "0      0.184574           -1.042742                  -0.860850   \n",
       "1     -0.039219            0.040512                  -0.643118   \n",
       "2     -0.406011            0.507775                   1.154076   \n",
       "3     -0.128117           -0.281769                  -0.576448   \n",
       "4     -0.236081           -0.110396                  -1.286924   \n",
       "\n",
       "   number_of_children  budgeting_rule  state_Single  sex_Male  goal_Savings  \\\n",
       "0           -0.732362               2          True     False          True   \n",
       "1           -0.732362               0          True      True          True   \n",
       "2            1.504066               0         False      True         False   \n",
       "3           -0.732362               0          True     False         False   \n",
       "4           -0.732362               1          True      True          True   \n",
       "\n",
       "   employment_status_Student  employment_status_Unemployed  age_group_encoded  \\\n",
       "0                       True                         False                  0   \n",
       "1                       True                         False                  0   \n",
       "2                      False                          True                  4   \n",
       "3                       True                         False                  0   \n",
       "4                       True                         False                  1   \n",
       "\n",
       "   debt_to_income_ratio  savings_ratio  \n",
       "0             -1.616898      -0.833365  \n",
       "1             -0.273106      -0.685308  \n",
       "2              1.666678       0.765966  \n",
       "3             -0.533201      -0.613354  \n",
       "4             -0.082102      -0.904521  "
      ]
     },
     "execution_count": 299,
     "metadata": {},
     "output_type": "execute_result"
    }
   ],
   "source": [
    "data.head()"
   ]
  },
  {
   "cell_type": "code",
   "execution_count": null,
   "metadata": {},
   "outputs": [],
   "source": []
  }
 ],
 "metadata": {
  "kernelspec": {
   "display_name": "Python 3",
   "language": "python",
   "name": "python3"
  },
  "language_info": {
   "codemirror_mode": {
    "name": "ipython",
    "version": 3
   },
   "file_extension": ".py",
   "mimetype": "text/x-python",
   "name": "python",
   "nbconvert_exporter": "python",
   "pygments_lexer": "ipython3",
   "version": "3.10.14"
  }
 },
 "nbformat": 4,
 "nbformat_minor": 2
}
