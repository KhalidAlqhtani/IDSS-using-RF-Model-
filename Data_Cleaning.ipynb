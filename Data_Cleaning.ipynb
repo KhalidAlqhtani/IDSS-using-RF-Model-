{
 "cells": [
  {
   "cell_type": "markdown",
   "metadata": {},
   "source": [
    "Loading Data:"
   ]
  },
  {
   "cell_type": "code",
   "execution_count": 135,
   "metadata": {},
   "outputs": [],
   "source": [
    "import pandas as pd\n",
    "\n",
    "# Load the Excel file into a DataFrame\n",
    "data = pd.read_excel(\"Survey_ICS487_Project.xlsx\")\n"
   ]
  },
  {
   "cell_type": "markdown",
   "metadata": {},
   "source": [
    "Data Inspection:"
   ]
  },
  {
   "cell_type": "code",
   "execution_count": 136,
   "metadata": {},
   "outputs": [
    {
     "name": "stdout",
     "output_type": "stream",
     "text": [
      "    Name  Salary (SAR)  Age    State     Sex  Monthly Debt (SAR)  \\\n",
      "0  feras          4162   24  Married  Female              870.98   \n",
      "1   Rami         34361   50  Married  Female             5685.48   \n",
      "2   Amal          2084   22   Single  Female              323.70   \n",
      "3   Nada          4288   18  Married  Female              156.89   \n",
      "4   Saud          7192   22  Married  Female              370.77   \n",
      "\n",
      "   Elementary Expenses (SAR)     Goal  Number of Children Employment_Status  \\\n",
      "0                    4660.09  Savings                   4           Student   \n",
      "1                   12431.05  Savings                   4          Employed   \n",
      "2                    1148.82  Savings                   0           Student   \n",
      "3                   12621.10  Savings                   4           Student   \n",
      "4                    7946.80  Savings                   5          Employed   \n",
      "\n",
      "  Nationality Budgeting_Rule  \n",
      "0       Saudi       50/30/20  \n",
      "1       Saudi       50/30/20  \n",
      "2       Saudi       70/20/10  \n",
      "3       Saudi       50/30/20  \n",
      "4       Saudi       50/30/20  \n",
      "<class 'pandas.core.frame.DataFrame'>\n",
      "RangeIndex: 523 entries, 0 to 522\n",
      "Data columns (total 12 columns):\n",
      " #   Column                     Non-Null Count  Dtype  \n",
      "---  ------                     --------------  -----  \n",
      " 0   Name                       523 non-null    object \n",
      " 1   Salary (SAR)               523 non-null    int64  \n",
      " 2   Age                        523 non-null    int64  \n",
      " 3   State                      523 non-null    object \n",
      " 4   Sex                        523 non-null    object \n",
      " 5   Monthly Debt (SAR)         523 non-null    float64\n",
      " 6   Elementary Expenses (SAR)  523 non-null    float64\n",
      " 7   Goal                       523 non-null    object \n",
      " 8   Number of Children         523 non-null    int64  \n",
      " 9   Employment_Status          523 non-null    object \n",
      " 10  Nationality                523 non-null    object \n",
      " 11  Budgeting_Rule             523 non-null    object \n",
      "dtypes: float64(2), int64(3), object(7)\n",
      "memory usage: 49.2+ KB\n",
      "None\n",
      "Name                         0\n",
      "Salary (SAR)                 0\n",
      "Age                          0\n",
      "State                        0\n",
      "Sex                          0\n",
      "Monthly Debt (SAR)           0\n",
      "Elementary Expenses (SAR)    0\n",
      "Goal                         0\n",
      "Number of Children           0\n",
      "Employment_Status            0\n",
      "Nationality                  0\n",
      "Budgeting_Rule               0\n",
      "dtype: int64\n"
     ]
    }
   ],
   "source": [
    "# Check the first few rows\n",
    "print(data.head())\n",
    "\n",
    "# Get an overview of the data\n",
    "print(data.info())\n",
    "\n",
    "# Check for missing values\n",
    "print(data.isnull().sum())"
   ]
  },
  {
   "cell_type": "markdown",
   "metadata": {},
   "source": [
    "Clean and Preprocess:"
   ]
  },
  {
   "cell_type": "code",
   "execution_count": 137,
   "metadata": {},
   "outputs": [],
   "source": [
    "# Standardize column names\n",
    "data.columns = [col.strip().lower().replace(\" \", \"_\") for col in data.columns]\n",
    "\n",
    "# Check for duplicates and remove them\n",
    "data = data.drop_duplicates()\n",
    "\n",
    "# Handle missing values (drop rows or fill them as needed)\n",
    "data = data.dropna()  # Drop rows with missing values\n",
    "# Alternatively, fill missing values (example: fill salary with median)\n",
    "data['salary_(sar)'] = data['salary_(sar)'].fillna(data['salary_(sar)'].median())\n",
    "\n",
    "# Ensure numeric columns are properly formatted\n",
    "numeric_columns = ['salary_(sar)', 'age', 'monthly_debt_(sar)', 'elementary_expenses_(sar)']\n",
    "for col in numeric_columns:\n",
    "    data[col] = pd.to_numeric(data[col], errors='coerce')\n",
    "\n",
    "# Validate ranges for numeric columns\n",
    "data = data[(data['age'] >= 18) & (data['age'] <= 100)]  # Age should be between 0 and 100\n",
    "data = data[data['salary_(sar)'] >= 0]  # Salary should not be negative\n",
    "\n",
    "# Filter for Saudi individuals\n",
    "data = data[data['nationality'].str.lower() == 'saudi']\n",
    "\n",
    "# Drop the 'nationality' column\n",
    "data = data.drop(columns=['nationality'])\n",
    "\n"
   ]
  },
  {
   "cell_type": "markdown",
   "metadata": {},
   "source": [
    "Removing outliers:"
   ]
  },
  {
   "cell_type": "code",
   "execution_count": 138,
   "metadata": {},
   "outputs": [],
   "source": [
    "import numpy as np\n",
    "\n",
    "def remove_outliers_iqr(df, column):\n",
    "    \"\"\"\n",
    "    Removes outliers from a column using the IQR method.\n",
    "    \"\"\"\n",
    "    Q1 = df[column].quantile(0.25)  # First quartile\n",
    "    Q3 = df[column].quantile(0.75)  # Third quartile\n",
    "    IQR = Q3 - Q1  # Interquartile range\n",
    "    lower_bound = Q1 - 1.5 * IQR\n",
    "    upper_bound = Q3 + 1.5 * IQR\n",
    "    return df[(df[column] >= lower_bound) & (df[column] <= upper_bound)]\n",
    "\n",
    "# Apply to numeric columns with potential outliers\n",
    "numeric_columns = ['salary_(sar)', 'age', 'monthly_debt_(sar)', 'elementary_expenses_(sar)']\n",
    "for col in numeric_columns:\n",
    "    data = remove_outliers_iqr(data, col)\n",
    "\n",
    "\n",
    "# Define age bins and labels\n",
    "age_bins = [0, 24, 34, 44, 54, float('inf')]\n",
    "age_labels = ['18-24', '25-34', '35-44', '45-54', '55+']\n",
    "\n",
    "# Create a new column for age groups\n",
    "data['age_group'] = pd.cut(data['age'], bins=age_bins, labels=age_labels, right=True)\n",
    "\n",
    "data = data.drop(columns=['age'])"
   ]
  },
  {
   "cell_type": "markdown",
   "metadata": {},
   "source": [
    "Encoding Categorical Variables:"
   ]
  },
  {
   "cell_type": "code",
   "execution_count": 139,
   "metadata": {},
   "outputs": [
    {
     "name": "stdout",
     "output_type": "stream",
     "text": [
      "Age Group Encoding:\n",
      "18-24: 0\n",
      "25-34: 1\n",
      "35-44: 2\n",
      "45-54: 3\n",
      "55+: 4\n"
     ]
    }
   ],
   "source": [
    "from sklearn.preprocessing import LabelEncoder\n",
    "\n",
    "# One-hot encode categorical columns\n",
    "categorical_columns = ['state', 'sex', 'goal', 'employment_status']\n",
    "data = pd.get_dummies(data, columns=categorical_columns, drop_first=True)\n",
    "\n",
    "# Encode the age_group using LabelEncoder\n",
    "label_encoder = LabelEncoder()\n",
    "data['age_group_encoded'] = label_encoder.fit_transform(data['age_group'])\n",
    "\n",
    "# Display the encoding\n",
    "print(\"Age Group Encoding:\")\n",
    "for label, encoded in zip(label_encoder.classes_, range(len(label_encoder.classes_))):\n",
    "    print(f\"{label}: {encoded}\")\n",
    "\n",
    "data = data.drop(columns=['age_group'])"
   ]
  },
  {
   "cell_type": "markdown",
   "metadata": {},
   "source": [
    "Feature Engineering:"
   ]
  },
  {
   "cell_type": "code",
   "execution_count": 140,
   "metadata": {},
   "outputs": [],
   "source": [
    "# Create new features\n",
    "data['debt_to_income_ratio'] = data['monthly_debt_(sar)'] / data['salary_(sar)']\n",
    "data['savings_ratio'] = data['elementary_expenses_(sar)'] / data['salary_(sar)']\n",
    "\n",
    "# Handle infinite or NaN values due to division\n",
    "data['debt_to_income_ratio'] = data['debt_to_income_ratio'].replace([np.inf, -np.inf], np.nan).fillna(0)\n",
    "data['savings_ratio'] = data['savings_ratio'].replace([np.inf, -np.inf], np.nan).fillna(0)\n",
    "\n",
    "# Drop irrelevant columns\n",
    "data = data.drop(columns=['name'])"
   ]
  },
  {
   "cell_type": "markdown",
   "metadata": {},
   "source": [
    "Saving Data:"
   ]
  },
  {
   "cell_type": "code",
   "execution_count": 141,
   "metadata": {},
   "outputs": [],
   "source": [
    "# Save cleaned data to a new Excel file\n",
    "data.to_excel(\"Cleaned_Survey_ICS487_Project.xlsx\", index=False)\n",
    "\n",
    "# Or save it as a CSV file\n",
    "data.to_csv(\"Cleaned_Survey_ICS487_Project.csv\", index=False)"
   ]
  }
 ],
 "metadata": {
  "kernelspec": {
   "display_name": "Python 3",
   "language": "python",
   "name": "python3"
  },
  "language_info": {
   "codemirror_mode": {
    "name": "ipython",
    "version": 3
   },
   "file_extension": ".py",
   "mimetype": "text/x-python",
   "name": "python",
   "nbconvert_exporter": "python",
   "pygments_lexer": "ipython3",
   "version": "3.10.14"
  }
 },
 "nbformat": 4,
 "nbformat_minor": 2
}
