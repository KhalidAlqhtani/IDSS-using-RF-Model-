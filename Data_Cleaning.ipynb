{
 "cells": [
  {
   "cell_type": "markdown",
   "metadata": {},
   "source": [
    "Loading Data:"
   ]
  },
  {
   "cell_type": "code",
   "execution_count": 389,
   "metadata": {},
   "outputs": [],
   "source": [
    "import pandas as pd\n",
    "\n",
    "# Load the Excel file into a DataFrame\n",
    "data = pd.read_excel(\"Survey_ICS487_Project.xlsx\")\n"
   ]
  },
  {
   "cell_type": "markdown",
   "metadata": {},
   "source": [
    "Data Inspection:"
   ]
  },
  {
   "cell_type": "code",
   "execution_count": 390,
   "metadata": {},
   "outputs": [
    {
     "name": "stdout",
     "output_type": "stream",
     "text": [
      "    Name  Salary (SAR)  Age    State     Sex  Monthly Debt (SAR)  \\\n",
      "0   saif          4833   23   Single  Female               83.88   \n",
      "1  Aisha          3894   23   Single    Male              491.46   \n",
      "2   Nada          2355   55  Married    Male              667.27   \n",
      "3    Ali          3521   21   Single  Female              370.20   \n",
      "4   Mona          3068   25   Single    Male              434.68   \n",
      "\n",
      "   Elementary Expenses (SAR)        Goal  Number of Children  \\\n",
      "0                    2694.39     Savings                   0   \n",
      "1                    3443.47     Savings                   0   \n",
      "2                    9626.48  Investment                   4   \n",
      "3                    3672.84  Investment                   0   \n",
      "4                    1228.54     Savings                   0   \n",
      "\n",
      "  Employment_Status Nationality Budgeting_Rule Financial_Comfortability  \\\n",
      "0           Student       Saudi       70/20/10                  ['yes']   \n",
      "1           Student       Saudi       50/30/20                  ['yes']   \n",
      "2        Unemployed       Saudi       50/30/20                  ['yes']   \n",
      "3           Student       Saudi       50/30/20                   ['no']   \n",
      "4           Student       Saudi       60/20/20                   ['no']   \n",
      "\n",
      "  Goal_Progress  \n",
      "0           yes  \n",
      "1           yes  \n",
      "2           yes  \n",
      "3           yes  \n",
      "4           yes  \n",
      "<class 'pandas.core.frame.DataFrame'>\n",
      "RangeIndex: 1176 entries, 0 to 1175\n",
      "Data columns (total 14 columns):\n",
      " #   Column                     Non-Null Count  Dtype  \n",
      "---  ------                     --------------  -----  \n",
      " 0   Name                       1176 non-null   object \n",
      " 1   Salary (SAR)               1176 non-null   int64  \n",
      " 2   Age                        1176 non-null   int64  \n",
      " 3   State                      1176 non-null   object \n",
      " 4   Sex                        1176 non-null   object \n",
      " 5   Monthly Debt (SAR)         1176 non-null   float64\n",
      " 6   Elementary Expenses (SAR)  1176 non-null   float64\n",
      " 7   Goal                       1176 non-null   object \n",
      " 8   Number of Children         1176 non-null   int64  \n",
      " 9   Employment_Status          1176 non-null   object \n",
      " 10  Nationality                1176 non-null   object \n",
      " 11  Budgeting_Rule             1176 non-null   object \n",
      " 12  Financial_Comfortability   1176 non-null   object \n",
      " 13  Goal_Progress              1176 non-null   object \n",
      "dtypes: float64(2), int64(3), object(9)\n",
      "memory usage: 128.8+ KB\n",
      "None\n",
      "Name                         0\n",
      "Salary (SAR)                 0\n",
      "Age                          0\n",
      "State                        0\n",
      "Sex                          0\n",
      "Monthly Debt (SAR)           0\n",
      "Elementary Expenses (SAR)    0\n",
      "Goal                         0\n",
      "Number of Children           0\n",
      "Employment_Status            0\n",
      "Nationality                  0\n",
      "Budgeting_Rule               0\n",
      "Financial_Comfortability     0\n",
      "Goal_Progress                0\n",
      "dtype: int64\n"
     ]
    }
   ],
   "source": [
    "# Check the first few rows\n",
    "print(data.head())\n",
    "\n",
    "# Get an overview of the data\n",
    "print(data.info())\n",
    "\n",
    "# Check for missing values\n",
    "print(data.isnull().sum())\n"
   ]
  },
  {
   "cell_type": "markdown",
   "metadata": {},
   "source": [
    "Clean and Preprocess:"
   ]
  },
  {
   "cell_type": "code",
   "execution_count": 391,
   "metadata": {},
   "outputs": [
    {
     "name": "stdout",
     "output_type": "stream",
     "text": [
      "       name  salary_(sar)  age    state     sex  monthly_debt_(sar)  \\\n",
      "1170  turki          1924   30  Married    Male              339.17   \n",
      "1171  ahmed          3679   19   Single  Female              400.72   \n",
      "1173  Noura          2749   35   Single    Male              451.26   \n",
      "1174  ziyad          7516   34  Married    Male              616.58   \n",
      "1175  Fahad         26217   34   Single    Male             1380.83   \n",
      "\n",
      "      elementary_expenses_(sar)        goal  number_of_children  \\\n",
      "1170                    4811.47  Investment                   2   \n",
      "1171                    2903.78     Savings                   0   \n",
      "1173                    4993.05     Savings                   0   \n",
      "1174                    4535.88     Savings                   3   \n",
      "1175                    1917.85     Savings                   0   \n",
      "\n",
      "     employment_status budgeting_rule  \n",
      "1170           Student       50/30/20  \n",
      "1171           Student       70/20/10  \n",
      "1173        Unemployed       50/30/20  \n",
      "1174          Employed       70/20/10  \n",
      "1175          Employed       50/30/20  \n"
     ]
    },
    {
     "name": "stderr",
     "output_type": "stream",
     "text": [
      "/var/folders/yc/7vmb_7z55z3d92njbdlxxr3m0000gp/T/ipykernel_61078/1195411881.py:25: UserWarning: Boolean Series key will be reindexed to match DataFrame index.\n",
      "  filtered_data = filtered_data[\n"
     ]
    }
   ],
   "source": [
    "# Standardize column names\n",
    "data.columns = [col.strip().lower().replace(\" \", \"_\") for col in data.columns]\n",
    "# Check for duplicates and remove them\n",
    "data = data.drop_duplicates()\n",
    "\n",
    "# Handle missing values (drop rows or fill them as needed)\n",
    "data = data.dropna()  # Drop rows with missing values\n",
    "# Alternatively, fill missing values (example: fill salary with median)\n",
    "data['salary_(sar)'] = data['salary_(sar)'].fillna(data['salary_(sar)'].median())\n",
    "\n",
    "# Ensure numeric columns are properly formatted\n",
    "numeric_columns = ['salary_(sar)', 'age', 'monthly_debt_(sar)', 'elementary_expenses_(sar)']\n",
    "for col in numeric_columns:\n",
    "    data[col] = pd.to_numeric(data[col], errors='coerce')\n",
    "\n",
    "# Validate ranges for numeric columns\n",
    "data = data[(data['age'] >= 18) & (data['age'] <= 100)]  # Age should be between 0 and 100\n",
    "data = data[data['salary_(sar)'] >= 0]  # Salary should not be negative\n",
    "\n",
    "# Filter out rows where the conditions are met\n",
    "filtered_data = data[\n",
    "    (data['nationality'].str.lower() == 'saudi') ]  # Keep only rows where nationality is 'saudi'\n",
    "filtered_data = filtered_data[\n",
    "    (filtered_data['financial_comfortability'].str.lower() != 'no') ]  # Exclude rows where financial_comfortability is 'no'\n",
    "filtered_data = filtered_data[\n",
    "    (data['goal_progress'].str.lower() != 'no')  # Exclude rows where goal_progress is 'no'\n",
    "]\n",
    "\n",
    "# Drop the irrelevant columns\n",
    "filtered_data = filtered_data.drop(columns=['nationality', 'financial_comfortability', 'goal_progress'])\n",
    "\n",
    "# Store the filtered data back if needed\n",
    "data = filtered_data\n",
    "print(data.tail())\n",
    "\n"
   ]
  },
  {
   "cell_type": "markdown",
   "metadata": {},
   "source": [
    "Removing outliers:"
   ]
  },
  {
   "cell_type": "code",
   "execution_count": 392,
   "metadata": {},
   "outputs": [],
   "source": [
    "import numpy as np\n",
    "\n",
    "def remove_outliers_iqr(df, column):\n",
    "    \"\"\"\n",
    "    Removes outliers from a column using the IQR method.\n",
    "    \"\"\"\n",
    "    Q1 = df[column].quantile(0.25)  # First quartile\n",
    "    Q3 = df[column].quantile(0.75)  # Third quartile\n",
    "    IQR = Q3 - Q1  # Interquartile range\n",
    "    lower_bound = Q1 - 1.5 * IQR\n",
    "    upper_bound = Q3 + 1.5 * IQR\n",
    "    return df[(df[column] >= lower_bound) & (df[column] <= upper_bound)]\n",
    "\n",
    "# Apply to numeric columns with potential outliers\n",
    "numeric_columns = ['salary_(sar)', 'age', 'monthly_debt_(sar)', 'elementary_expenses_(sar)']\n",
    "for col in numeric_columns:\n",
    "    data = remove_outliers_iqr(data, col)\n",
    "\n",
    "\n",
    "# Define age bins and labels\n",
    "age_bins = [0, 24, 34, 44, 54, float('inf')]\n",
    "age_labels = ['18-24', '25-34', '35-44', '45-54', '55+']\n",
    "\n",
    "# Create a new column for age groups\n",
    "data['age_group'] = pd.cut(data['age'], bins=age_bins, labels=age_labels, right=True)\n",
    "\n",
    "data = data.drop(columns=['age'])\n"
   ]
  },
  {
   "cell_type": "markdown",
   "metadata": {},
   "source": [
    "Encoding Categorical Variables:"
   ]
  },
  {
   "cell_type": "code",
   "execution_count": 393,
   "metadata": {},
   "outputs": [
    {
     "name": "stdout",
     "output_type": "stream",
     "text": [
      "Age Group Encoding:\n",
      "18-24: 0\n",
      "25-34: 1\n",
      "35-44: 2\n",
      "45-54: 3\n",
      "55+: 4\n"
     ]
    }
   ],
   "source": [
    "from sklearn.preprocessing import LabelEncoder\n",
    "\n",
    "# One-hot encode categorical columns\n",
    "categorical_columns = ['state', 'sex', 'goal', 'employment_status']\n",
    "data = pd.get_dummies(data, columns=categorical_columns, drop_first=True)\n",
    "\n",
    "# Encode the age_group using LabelEncoder\n",
    "label_encoder = LabelEncoder()\n",
    "data['age_group_encoded'] = label_encoder.fit_transform(data['age_group'])\n",
    "\n",
    "# Display the encoding\n",
    "print(\"Age Group Encoding:\")\n",
    "for label, encoded in zip(label_encoder.classes_, range(len(label_encoder.classes_))):\n",
    "    print(f\"{label}: {encoded}\")\n",
    "\n",
    "data = data.drop(columns=['age_group'])\n"
   ]
  },
  {
   "cell_type": "markdown",
   "metadata": {},
   "source": [
    "Feature Engineering:"
   ]
  },
  {
   "cell_type": "code",
   "execution_count": 394,
   "metadata": {},
   "outputs": [
    {
     "data": {
      "text/html": [
       "<div>\n",
       "<style scoped>\n",
       "    .dataframe tbody tr th:only-of-type {\n",
       "        vertical-align: middle;\n",
       "    }\n",
       "\n",
       "    .dataframe tbody tr th {\n",
       "        vertical-align: top;\n",
       "    }\n",
       "\n",
       "    .dataframe thead th {\n",
       "        text-align: right;\n",
       "    }\n",
       "</style>\n",
       "<table border=\"1\" class=\"dataframe\">\n",
       "  <thead>\n",
       "    <tr style=\"text-align: right;\">\n",
       "      <th></th>\n",
       "      <th>salary_(sar)</th>\n",
       "      <th>monthly_debt_(sar)</th>\n",
       "      <th>elementary_expenses_(sar)</th>\n",
       "      <th>number_of_children</th>\n",
       "      <th>age_group_encoded</th>\n",
       "      <th>debt_to_income_ratio</th>\n",
       "      <th>savings_ratio</th>\n",
       "    </tr>\n",
       "  </thead>\n",
       "  <tbody>\n",
       "    <tr>\n",
       "      <th>count</th>\n",
       "      <td>739.000000</td>\n",
       "      <td>739.000000</td>\n",
       "      <td>739.000000</td>\n",
       "      <td>739.000000</td>\n",
       "      <td>739.000000</td>\n",
       "      <td>739.000000</td>\n",
       "      <td>739.000000</td>\n",
       "    </tr>\n",
       "    <tr>\n",
       "      <th>mean</th>\n",
       "      <td>4058.557510</td>\n",
       "      <td>476.217118</td>\n",
       "      <td>5656.033329</td>\n",
       "      <td>1.309878</td>\n",
       "      <td>1.300406</td>\n",
       "      <td>0.148333</td>\n",
       "      <td>2.396972</td>\n",
       "    </tr>\n",
       "    <tr>\n",
       "      <th>std</th>\n",
       "      <td>4198.683241</td>\n",
       "      <td>376.510113</td>\n",
       "      <td>3442.699599</td>\n",
       "      <td>1.789777</td>\n",
       "      <td>1.244669</td>\n",
       "      <td>0.081060</td>\n",
       "      <td>2.208780</td>\n",
       "    </tr>\n",
       "    <tr>\n",
       "      <th>min</th>\n",
       "      <td>904.000000</td>\n",
       "      <td>50.600000</td>\n",
       "      <td>419.510000</td>\n",
       "      <td>0.000000</td>\n",
       "      <td>0.000000</td>\n",
       "      <td>0.002883</td>\n",
       "      <td>0.048809</td>\n",
       "    </tr>\n",
       "    <tr>\n",
       "      <th>25%</th>\n",
       "      <td>1763.000000</td>\n",
       "      <td>198.035000</td>\n",
       "      <td>3048.495000</td>\n",
       "      <td>0.000000</td>\n",
       "      <td>0.000000</td>\n",
       "      <td>0.078898</td>\n",
       "      <td>0.798022</td>\n",
       "    </tr>\n",
       "    <tr>\n",
       "      <th>50%</th>\n",
       "      <td>2521.000000</td>\n",
       "      <td>365.980000</td>\n",
       "      <td>4789.630000</td>\n",
       "      <td>0.000000</td>\n",
       "      <td>1.000000</td>\n",
       "      <td>0.141615</td>\n",
       "      <td>1.793381</td>\n",
       "    </tr>\n",
       "    <tr>\n",
       "      <th>75%</th>\n",
       "      <td>4139.500000</td>\n",
       "      <td>634.240000</td>\n",
       "      <td>8273.735000</td>\n",
       "      <td>3.000000</td>\n",
       "      <td>2.000000</td>\n",
       "      <td>0.215983</td>\n",
       "      <td>3.281426</td>\n",
       "    </tr>\n",
       "    <tr>\n",
       "      <th>max</th>\n",
       "      <td>22608.000000</td>\n",
       "      <td>1803.120000</td>\n",
       "      <td>15038.910000</td>\n",
       "      <td>5.000000</td>\n",
       "      <td>4.000000</td>\n",
       "      <td>0.299766</td>\n",
       "      <td>13.914766</td>\n",
       "    </tr>\n",
       "  </tbody>\n",
       "</table>\n",
       "</div>"
      ],
      "text/plain": [
       "       salary_(sar)  monthly_debt_(sar)  elementary_expenses_(sar)  \\\n",
       "count    739.000000          739.000000                 739.000000   \n",
       "mean    4058.557510          476.217118                5656.033329   \n",
       "std     4198.683241          376.510113                3442.699599   \n",
       "min      904.000000           50.600000                 419.510000   \n",
       "25%     1763.000000          198.035000                3048.495000   \n",
       "50%     2521.000000          365.980000                4789.630000   \n",
       "75%     4139.500000          634.240000                8273.735000   \n",
       "max    22608.000000         1803.120000               15038.910000   \n",
       "\n",
       "       number_of_children  age_group_encoded  debt_to_income_ratio  \\\n",
       "count          739.000000         739.000000            739.000000   \n",
       "mean             1.309878           1.300406              0.148333   \n",
       "std              1.789777           1.244669              0.081060   \n",
       "min              0.000000           0.000000              0.002883   \n",
       "25%              0.000000           0.000000              0.078898   \n",
       "50%              0.000000           1.000000              0.141615   \n",
       "75%              3.000000           2.000000              0.215983   \n",
       "max              5.000000           4.000000              0.299766   \n",
       "\n",
       "       savings_ratio  \n",
       "count     739.000000  \n",
       "mean        2.396972  \n",
       "std         2.208780  \n",
       "min         0.048809  \n",
       "25%         0.798022  \n",
       "50%         1.793381  \n",
       "75%         3.281426  \n",
       "max        13.914766  "
      ]
     },
     "execution_count": 394,
     "metadata": {},
     "output_type": "execute_result"
    }
   ],
   "source": [
    "# Create new features\n",
    "data['debt_to_income_ratio'] = data['monthly_debt_(sar)'] / data['salary_(sar)']\n",
    "data['savings_ratio'] = data['elementary_expenses_(sar)'] / data['salary_(sar)']\n",
    "\n",
    "# Handle infinite or NaN values due to division\n",
    "data['debt_to_income_ratio'] = data['debt_to_income_ratio'].replace([np.inf, -np.inf], np.nan).fillna(0)\n",
    "data['savings_ratio'] = data['savings_ratio'].replace([np.inf, -np.inf], np.nan).fillna(0)\n",
    "\n",
    "# Drop irrelevant columns\n",
    "data = data.drop(columns=['name'])\n",
    "\n",
    "data.describe()"
   ]
  },
  {
   "cell_type": "markdown",
   "metadata": {},
   "source": [
    "Saving Data:"
   ]
  },
  {
   "cell_type": "code",
   "execution_count": 395,
   "metadata": {},
   "outputs": [],
   "source": [
    "# Save cleaned data to a new Excel file\n",
    "data.to_excel(\"Cleaned_Survey_ICS487_Project.xlsx\", index=False)\n",
    "\n",
    "# Or save it as a CSV file\n",
    "data.to_csv(\"Cleaned_Survey_ICS487_Project.csv\", index=False)"
   ]
  }
 ],
 "metadata": {
  "kernelspec": {
   "display_name": "Python 3",
   "language": "python",
   "name": "python3"
  },
  "language_info": {
   "codemirror_mode": {
    "name": "ipython",
    "version": 3
   },
   "file_extension": ".py",
   "mimetype": "text/x-python",
   "name": "python",
   "nbconvert_exporter": "python",
   "pygments_lexer": "ipython3",
   "version": "3.10.14"
  }
 },
 "nbformat": 4,
 "nbformat_minor": 2
}
