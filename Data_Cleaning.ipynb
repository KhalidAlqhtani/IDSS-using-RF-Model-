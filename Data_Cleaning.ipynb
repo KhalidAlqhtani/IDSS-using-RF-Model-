{
 "cells": [
  {
   "cell_type": "markdown",
   "metadata": {},
   "source": [
    "Loading Data:"
   ]
  },
  {
   "cell_type": "code",
   "execution_count": 361,
   "metadata": {},
   "outputs": [],
   "source": [
    "import pandas as pd\n",
    "\n",
    "# Load the Excel file into a DataFrame\n",
    "data = pd.read_excel(\"Survey_ICS487_Project.xlsx\")\n"
   ]
  },
  {
   "cell_type": "markdown",
   "metadata": {},
   "source": [
    "Data Inspection:"
   ]
  },
  {
   "cell_type": "code",
   "execution_count": 362,
   "metadata": {},
   "outputs": [
    {
     "name": "stdout",
     "output_type": "stream",
     "text": [
      "         Name  Salary (SAR)  Age    State     Sex  Monthly Debt (SAR)  \\\n",
      "0     Ibrahim          3341   30   Single  Female              824.26   \n",
      "1  abdulmajid          2595   27  Married    Male              362.05   \n",
      "2      Bander          2472   26  Married    Male              204.87   \n",
      "3        sami          2841   57  Married    Male              464.94   \n",
      "4       salem          2337   54   Single    Male              507.02   \n",
      "\n",
      "   Elementary Expenses (SAR)        Goal  Number of Children  \\\n",
      "0                    2607.09  Investment                   0   \n",
      "1                    4919.38     Savings                   5   \n",
      "2                    4152.50     Savings                   3   \n",
      "3                    5733.83     Savings                   0   \n",
      "4                    4012.42  Investment                   0   \n",
      "\n",
      "  Employment_Status Nationality Budgeting_Rule Financial_Comfortability  \\\n",
      "0           Student       Saudi       50/30/20                   ['no']   \n",
      "1           Student       Saudi       50/30/20                  ['yes']   \n",
      "2           Student       Saudi       50/30/20                  ['yes']   \n",
      "3        Unemployed       Saudi       50/30/20                  ['yes']   \n",
      "4        Unemployed       Saudi       50/30/20                  ['yes']   \n",
      "\n",
      "  Goal_Progress  \n",
      "0           yes  \n",
      "1            no  \n",
      "2           yes  \n",
      "3           yes  \n",
      "4           yes  \n",
      "<class 'pandas.core.frame.DataFrame'>\n",
      "RangeIndex: 1176 entries, 0 to 1175\n",
      "Data columns (total 14 columns):\n",
      " #   Column                     Non-Null Count  Dtype  \n",
      "---  ------                     --------------  -----  \n",
      " 0   Name                       1176 non-null   object \n",
      " 1   Salary (SAR)               1176 non-null   int64  \n",
      " 2   Age                        1176 non-null   int64  \n",
      " 3   State                      1176 non-null   object \n",
      " 4   Sex                        1176 non-null   object \n",
      " 5   Monthly Debt (SAR)         1176 non-null   float64\n",
      " 6   Elementary Expenses (SAR)  1176 non-null   float64\n",
      " 7   Goal                       1176 non-null   object \n",
      " 8   Number of Children         1176 non-null   int64  \n",
      " 9   Employment_Status          1176 non-null   object \n",
      " 10  Nationality                1176 non-null   object \n",
      " 11  Budgeting_Rule             1176 non-null   object \n",
      " 12  Financial_Comfortability   1176 non-null   object \n",
      " 13  Goal_Progress              1176 non-null   object \n",
      "dtypes: float64(2), int64(3), object(9)\n",
      "memory usage: 128.8+ KB\n",
      "None\n",
      "Name                         0\n",
      "Salary (SAR)                 0\n",
      "Age                          0\n",
      "State                        0\n",
      "Sex                          0\n",
      "Monthly Debt (SAR)           0\n",
      "Elementary Expenses (SAR)    0\n",
      "Goal                         0\n",
      "Number of Children           0\n",
      "Employment_Status            0\n",
      "Nationality                  0\n",
      "Budgeting_Rule               0\n",
      "Financial_Comfortability     0\n",
      "Goal_Progress                0\n",
      "dtype: int64\n"
     ]
    }
   ],
   "source": [
    "# Check the first few rows\n",
    "print(data.head())\n",
    "\n",
    "# Get an overview of the data\n",
    "print(data.info())\n",
    "\n",
    "# Check for missing values\n",
    "print(data.isnull().sum())\n"
   ]
  },
  {
   "cell_type": "markdown",
   "metadata": {},
   "source": [
    "Clean and Preprocess:"
   ]
  },
  {
   "cell_type": "code",
   "execution_count": 363,
   "metadata": {},
   "outputs": [
    {
     "name": "stdout",
     "output_type": "stream",
     "text": [
      "       name  salary_(sar)  age    state     sex  monthly_debt_(sar)  \\\n",
      "1171   Yara         21726   36  Married  Female             1275.94   \n",
      "1172  Malik           951   23   Single    Male              271.78   \n",
      "1173   Saif         32399   49  Married    Male             2906.62   \n",
      "1174  Malik          2966   49   Single  Female              304.50   \n",
      "1175  fares          2622   48  Married    Male              165.59   \n",
      "\n",
      "      elementary_expenses_(sar)        goal  number_of_children  \\\n",
      "1171                    7075.70  Investment                   0   \n",
      "1172                    1753.42  Investment                   0   \n",
      "1173                    7802.89  Investment                   2   \n",
      "1174                    2421.45     Savings                   0   \n",
      "1175                    9368.64     Savings                   5   \n",
      "\n",
      "     employment_status budgeting_rule  \n",
      "1171          Employed       50/30/20  \n",
      "1172           Student       50/30/20  \n",
      "1173          Employed       60/20/20  \n",
      "1174        Unemployed       70/20/10  \n",
      "1175        Unemployed       50/30/20  \n"
     ]
    },
    {
     "name": "stderr",
     "output_type": "stream",
     "text": [
      "/var/folders/yc/7vmb_7z55z3d92njbdlxxr3m0000gp/T/ipykernel_61078/1195411881.py:25: UserWarning: Boolean Series key will be reindexed to match DataFrame index.\n",
      "  filtered_data = filtered_data[\n"
     ]
    }
   ],
   "source": [
    "# Standardize column names\n",
    "data.columns = [col.strip().lower().replace(\" \", \"_\") for col in data.columns]\n",
    "# Check for duplicates and remove them\n",
    "data = data.drop_duplicates()\n",
    "\n",
    "# Handle missing values (drop rows or fill them as needed)\n",
    "data = data.dropna()  # Drop rows with missing values\n",
    "# Alternatively, fill missing values (example: fill salary with median)\n",
    "data['salary_(sar)'] = data['salary_(sar)'].fillna(data['salary_(sar)'].median())\n",
    "\n",
    "# Ensure numeric columns are properly formatted\n",
    "numeric_columns = ['salary_(sar)', 'age', 'monthly_debt_(sar)', 'elementary_expenses_(sar)']\n",
    "for col in numeric_columns:\n",
    "    data[col] = pd.to_numeric(data[col], errors='coerce')\n",
    "\n",
    "# Validate ranges for numeric columns\n",
    "data = data[(data['age'] >= 18) & (data['age'] <= 100)]  # Age should be between 0 and 100\n",
    "data = data[data['salary_(sar)'] >= 0]  # Salary should not be negative\n",
    "\n",
    "# Filter out rows where the conditions are met\n",
    "filtered_data = data[\n",
    "    (data['nationality'].str.lower() == 'saudi') ]  # Keep only rows where nationality is 'saudi'\n",
    "filtered_data = filtered_data[\n",
    "    (filtered_data['financial_comfortability'].str.lower() != 'no') ]  # Exclude rows where financial_comfortability is 'no'\n",
    "filtered_data = filtered_data[\n",
    "    (data['goal_progress'].str.lower() != 'no')  # Exclude rows where goal_progress is 'no'\n",
    "]\n",
    "\n",
    "# Drop the irrelevant columns\n",
    "filtered_data = filtered_data.drop(columns=['nationality', 'financial_comfortability', 'goal_progress'])\n",
    "\n",
    "# Store the filtered data back if needed\n",
    "data = filtered_data\n",
    "print(data.tail())\n",
    "\n"
   ]
  },
  {
   "cell_type": "markdown",
   "metadata": {},
   "source": [
    "Removing outliers:"
   ]
  },
  {
   "cell_type": "code",
   "execution_count": 364,
   "metadata": {},
   "outputs": [],
   "source": [
    "import numpy as np\n",
    "\n",
    "def remove_outliers_iqr(df, column):\n",
    "    \"\"\"\n",
    "    Removes outliers from a column using the IQR method.\n",
    "    \"\"\"\n",
    "    Q1 = df[column].quantile(0.25)  # First quartile\n",
    "    Q3 = df[column].quantile(0.75)  # Third quartile\n",
    "    IQR = Q3 - Q1  # Interquartile range\n",
    "    lower_bound = Q1 - 1.5 * IQR\n",
    "    upper_bound = Q3 + 1.5 * IQR\n",
    "    return df[(df[column] >= lower_bound) & (df[column] <= upper_bound)]\n",
    "\n",
    "# Apply to numeric columns with potential outliers\n",
    "numeric_columns = ['salary_(sar)', 'age', 'monthly_debt_(sar)', 'elementary_expenses_(sar)']\n",
    "for col in numeric_columns:\n",
    "    data = remove_outliers_iqr(data, col)\n",
    "\n",
    "\n",
    "# Define age bins and labels\n",
    "age_bins = [0, 24, 34, 44, 54, float('inf')]\n",
    "age_labels = ['18-24', '25-34', '35-44', '45-54', '55+']\n",
    "\n",
    "# Create a new column for age groups\n",
    "data['age_group'] = pd.cut(data['age'], bins=age_bins, labels=age_labels, right=True)\n",
    "\n",
    "data = data.drop(columns=['age'])\n"
   ]
  },
  {
   "cell_type": "markdown",
   "metadata": {},
   "source": [
    "Encoding Categorical Variables:"
   ]
  },
  {
   "cell_type": "code",
   "execution_count": 365,
   "metadata": {},
   "outputs": [
    {
     "name": "stdout",
     "output_type": "stream",
     "text": [
      "Age Group Encoding:\n",
      "18-24: 0\n",
      "25-34: 1\n",
      "35-44: 2\n",
      "45-54: 3\n",
      "55+: 4\n"
     ]
    }
   ],
   "source": [
    "from sklearn.preprocessing import LabelEncoder\n",
    "\n",
    "# One-hot encode categorical columns\n",
    "categorical_columns = ['state', 'sex', 'goal', 'employment_status']\n",
    "data = pd.get_dummies(data, columns=categorical_columns, drop_first=True)\n",
    "\n",
    "# Encode the age_group using LabelEncoder\n",
    "label_encoder = LabelEncoder()\n",
    "data['age_group_encoded'] = label_encoder.fit_transform(data['age_group'])\n",
    "\n",
    "# Display the encoding\n",
    "print(\"Age Group Encoding:\")\n",
    "for label, encoded in zip(label_encoder.classes_, range(len(label_encoder.classes_))):\n",
    "    print(f\"{label}: {encoded}\")\n",
    "\n",
    "data = data.drop(columns=['age_group'])\n"
   ]
  },
  {
   "cell_type": "markdown",
   "metadata": {},
   "source": [
    "Feature Engineering:"
   ]
  },
  {
   "cell_type": "code",
   "execution_count": 366,
   "metadata": {},
   "outputs": [
    {
     "data": {
      "text/html": [
       "<div>\n",
       "<style scoped>\n",
       "    .dataframe tbody tr th:only-of-type {\n",
       "        vertical-align: middle;\n",
       "    }\n",
       "\n",
       "    .dataframe tbody tr th {\n",
       "        vertical-align: top;\n",
       "    }\n",
       "\n",
       "    .dataframe thead th {\n",
       "        text-align: right;\n",
       "    }\n",
       "</style>\n",
       "<table border=\"1\" class=\"dataframe\">\n",
       "  <thead>\n",
       "    <tr style=\"text-align: right;\">\n",
       "      <th></th>\n",
       "      <th>salary_(sar)</th>\n",
       "      <th>monthly_debt_(sar)</th>\n",
       "      <th>elementary_expenses_(sar)</th>\n",
       "      <th>number_of_children</th>\n",
       "      <th>age_group_encoded</th>\n",
       "      <th>debt_to_income_ratio</th>\n",
       "      <th>savings_ratio</th>\n",
       "    </tr>\n",
       "  </thead>\n",
       "  <tbody>\n",
       "    <tr>\n",
       "      <th>count</th>\n",
       "      <td>717.000000</td>\n",
       "      <td>717.000000</td>\n",
       "      <td>717.000000</td>\n",
       "      <td>717.000000</td>\n",
       "      <td>717.000000</td>\n",
       "      <td>717.000000</td>\n",
       "      <td>717.000000</td>\n",
       "    </tr>\n",
       "    <tr>\n",
       "      <th>mean</th>\n",
       "      <td>3776.023710</td>\n",
       "      <td>490.994826</td>\n",
       "      <td>5699.952720</td>\n",
       "      <td>1.234310</td>\n",
       "      <td>1.343096</td>\n",
       "      <td>0.153535</td>\n",
       "      <td>2.376135</td>\n",
       "    </tr>\n",
       "    <tr>\n",
       "      <th>std</th>\n",
       "      <td>3742.614289</td>\n",
       "      <td>387.375079</td>\n",
       "      <td>3650.813219</td>\n",
       "      <td>1.706313</td>\n",
       "      <td>1.256046</td>\n",
       "      <td>0.080978</td>\n",
       "      <td>2.135130</td>\n",
       "    </tr>\n",
       "    <tr>\n",
       "      <th>min</th>\n",
       "      <td>910.000000</td>\n",
       "      <td>50.990000</td>\n",
       "      <td>467.220000</td>\n",
       "      <td>0.000000</td>\n",
       "      <td>0.000000</td>\n",
       "      <td>0.007880</td>\n",
       "      <td>0.027823</td>\n",
       "    </tr>\n",
       "    <tr>\n",
       "      <th>25%</th>\n",
       "      <td>1817.000000</td>\n",
       "      <td>209.130000</td>\n",
       "      <td>2695.560000</td>\n",
       "      <td>0.000000</td>\n",
       "      <td>0.000000</td>\n",
       "      <td>0.082876</td>\n",
       "      <td>0.766568</td>\n",
       "    </tr>\n",
       "    <tr>\n",
       "      <th>50%</th>\n",
       "      <td>2541.000000</td>\n",
       "      <td>388.330000</td>\n",
       "      <td>4831.890000</td>\n",
       "      <td>0.000000</td>\n",
       "      <td>1.000000</td>\n",
       "      <td>0.151888</td>\n",
       "      <td>1.752422</td>\n",
       "    </tr>\n",
       "    <tr>\n",
       "      <th>75%</th>\n",
       "      <td>3808.000000</td>\n",
       "      <td>651.050000</td>\n",
       "      <td>8662.680000</td>\n",
       "      <td>2.000000</td>\n",
       "      <td>2.000000</td>\n",
       "      <td>0.221979</td>\n",
       "      <td>3.272212</td>\n",
       "    </tr>\n",
       "    <tr>\n",
       "      <th>max</th>\n",
       "      <td>22117.000000</td>\n",
       "      <td>1853.370000</td>\n",
       "      <td>14564.850000</td>\n",
       "      <td>5.000000</td>\n",
       "      <td>4.000000</td>\n",
       "      <td>0.299759</td>\n",
       "      <td>11.825868</td>\n",
       "    </tr>\n",
       "  </tbody>\n",
       "</table>\n",
       "</div>"
      ],
      "text/plain": [
       "       salary_(sar)  monthly_debt_(sar)  elementary_expenses_(sar)  \\\n",
       "count    717.000000          717.000000                 717.000000   \n",
       "mean    3776.023710          490.994826                5699.952720   \n",
       "std     3742.614289          387.375079                3650.813219   \n",
       "min      910.000000           50.990000                 467.220000   \n",
       "25%     1817.000000          209.130000                2695.560000   \n",
       "50%     2541.000000          388.330000                4831.890000   \n",
       "75%     3808.000000          651.050000                8662.680000   \n",
       "max    22117.000000         1853.370000               14564.850000   \n",
       "\n",
       "       number_of_children  age_group_encoded  debt_to_income_ratio  \\\n",
       "count          717.000000         717.000000            717.000000   \n",
       "mean             1.234310           1.343096              0.153535   \n",
       "std              1.706313           1.256046              0.080978   \n",
       "min              0.000000           0.000000              0.007880   \n",
       "25%              0.000000           0.000000              0.082876   \n",
       "50%              0.000000           1.000000              0.151888   \n",
       "75%              2.000000           2.000000              0.221979   \n",
       "max              5.000000           4.000000              0.299759   \n",
       "\n",
       "       savings_ratio  \n",
       "count     717.000000  \n",
       "mean        2.376135  \n",
       "std         2.135130  \n",
       "min         0.027823  \n",
       "25%         0.766568  \n",
       "50%         1.752422  \n",
       "75%         3.272212  \n",
       "max        11.825868  "
      ]
     },
     "execution_count": 366,
     "metadata": {},
     "output_type": "execute_result"
    }
   ],
   "source": [
    "# Create new features\n",
    "data['debt_to_income_ratio'] = data['monthly_debt_(sar)'] / data['salary_(sar)']\n",
    "data['savings_ratio'] = data['elementary_expenses_(sar)'] / data['salary_(sar)']\n",
    "\n",
    "# Handle infinite or NaN values due to division\n",
    "data['debt_to_income_ratio'] = data['debt_to_income_ratio'].replace([np.inf, -np.inf], np.nan).fillna(0)\n",
    "data['savings_ratio'] = data['savings_ratio'].replace([np.inf, -np.inf], np.nan).fillna(0)\n",
    "\n",
    "# Drop irrelevant columns\n",
    "data = data.drop(columns=['name'])\n",
    "\n",
    "data.describe()"
   ]
  },
  {
   "cell_type": "markdown",
   "metadata": {},
   "source": [
    "Saving Data:"
   ]
  },
  {
   "cell_type": "code",
   "execution_count": 367,
   "metadata": {},
   "outputs": [],
   "source": [
    "# Save cleaned data to a new Excel file\n",
    "data.to_excel(\"Cleaned_Survey_ICS487_Project.xlsx\", index=False)\n",
    "\n",
    "# Or save it as a CSV file\n",
    "data.to_csv(\"Cleaned_Survey_ICS487_Project.csv\", index=False)"
   ]
  }
 ],
 "metadata": {
  "kernelspec": {
   "display_name": "Python 3",
   "language": "python",
   "name": "python3"
  },
  "language_info": {
   "codemirror_mode": {
    "name": "ipython",
    "version": 3
   },
   "file_extension": ".py",
   "mimetype": "text/x-python",
   "name": "python",
   "nbconvert_exporter": "python",
   "pygments_lexer": "ipython3",
   "version": "3.10.14"
  }
 },
 "nbformat": 4,
 "nbformat_minor": 2
}
